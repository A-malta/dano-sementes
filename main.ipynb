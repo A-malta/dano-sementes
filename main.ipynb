{
 "cells": [
  {
   "cell_type": "code",
   "execution_count": null,
   "id": "5d835982-3fc9-47f8-a259-cf39d0d14cb9",
   "metadata": {},
   "outputs": [
    {
     "name": "stderr",
     "output_type": "stream",
     "text": [
      "WARNING:absl:Compiled the loaded model, but the compiled metrics have yet to be built. `model.compile_metrics` will be empty until you train or evaluate the model.\n"
     ]
    },
    {
     "name": "stdout",
     "output_type": "stream",
     "text": [
      "Modelo encontrado. Iniciando avaliação...\n",
      "\u001b[1m2/2\u001b[0m \u001b[32m━━━━━━━━━━━━━━━━━━━━\u001b[0m\u001b[37m\u001b[0m \u001b[1m0s\u001b[0m 98ms/step\n",
      "Relatório de Classificação:\n",
      "              precision    recall  f1-score   support\n",
      "\n",
      "    Sem dano       0.69      0.90      0.78        20\n",
      "    Com dano       0.86      0.60      0.71        20\n",
      "\n",
      "    accuracy                           0.75        40\n",
      "   macro avg       0.77      0.75      0.74        40\n",
      "weighted avg       0.77      0.75      0.74        40\n",
      "\n",
      "Matriz de Confusão:\n",
      "[[18  2]\n",
      " [ 8 12]]\n"
     ]
    },
    {
     "name": "stderr",
     "output_type": "stream",
     "text": [
      "WARNING:absl:Compiled the loaded model, but the compiled metrics have yet to be built. `model.compile_metrics` will be empty until you train or evaluate the model.\n"
     ]
    }
   ],
   "source": [
    "import treinamento\n",
    "import avaliacao\n",
    "import os\n",
    "import classificador\n",
    "\n",
    "def main():\n",
    "    model = \"damage_classification_model.h5\"\n",
    "    if os.path.exists(model):\n",
    "        print(\"Modelo encontrado. Iniciando avaliação...\")\n",
    "        avaliacao.main(model)\n",
    "\n",
    "    else:\n",
    "        print(\"Modelo não encontrado. Iniciando treinamento...\")\n",
    "        treinamento.main(model)\n",
    "        avaliacao.main(model)\n",
    "    classificador.main(model)\n",
    "\n",
    "if __name__ == \"__main__\":\n",
    "    main()"
   ]
  }
 ],
 "metadata": {
  "kernelspec": {
   "display_name": "Python (dano-sementes)",
   "language": "python",
   "name": "dano-sementes"
  },
  "language_info": {
   "codemirror_mode": {
    "name": "ipython",
    "version": 3
   },
   "file_extension": ".py",
   "mimetype": "text/x-python",
   "name": "python",
   "nbconvert_exporter": "python",
   "pygments_lexer": "ipython3",
   "version": "3.12.7"
  }
 },
 "nbformat": 4,
 "nbformat_minor": 5
}
