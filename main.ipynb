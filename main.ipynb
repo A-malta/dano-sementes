{
 "cells": [
  {
   "cell_type": "code",
   "execution_count": null,
   "id": "5d835982-3fc9-47f8-a259-cf39d0d14cb9",
   "metadata": {},
   "outputs": [
    {
     "name": "stderr",
     "output_type": "stream",
     "text": [
      "WARNING:absl:Compiled the loaded model, but the compiled metrics have yet to be built. `model.compile_metrics` will be empty until you train or evaluate the model.\n"
     ]
    },
    {
     "name": "stdout",
     "output_type": "stream",
     "text": [
      "\u001b[1m2/2\u001b[0m \u001b[32m━━━━━━━━━━━━━━━━━━━━\u001b[0m\u001b[37m\u001b[0m \u001b[1m0s\u001b[0m 91ms/step\n",
      "Relatório de Classificação:\n",
      "              precision    recall  f1-score   support\n",
      "\n",
      "    Sem dano       0.75      0.60      0.67        20\n",
      "    Com dano       0.67      0.80      0.73        20\n",
      "\n",
      "    accuracy                           0.70        40\n",
      "   macro avg       0.71      0.70      0.70        40\n",
      "weighted avg       0.71      0.70      0.70        40\n",
      "\n",
      "Matriz de Confusão:\n",
      "[[12  8]\n",
      " [ 4 16]]\n"
     ]
    }
   ],
   "source": [
    "import treinamento\n",
    "import avaliacao\n",
    "import os\n",
    "import classificador\n",
    "import tensorflow as tf\n",
    "import numpy as np\n",
    "\n",
    "def main():\n",
    "    model_name = \"damage_classification_model.h5\"\n",
    "    \n",
    "    if not os.path.exists(model_name):\n",
    "        print(\"Modelo não encontrado. Iniciando treinamento...\")\n",
    "        treinamento.main(model_name)\n",
    "        \n",
    "    model = tf.keras.models.load_model(model_name)\n",
    "    model.compile(optimizer='adam',\n",
    "                  loss='sparse_categorical_crossentropy',\n",
    "                  metrics=['accuracy'])\n",
    "\n",
    "    avaliacao.main(model)\n",
    "    classificador.main(model)\n",
    "\n",
    "if __name__ == \"__main__\":\n",
    "    main()"
   ]
  },
  {
   "cell_type": "code",
   "execution_count": null,
   "id": "f014069a-b49a-47af-b18b-1ead556a7206",
   "metadata": {},
   "outputs": [],
   "source": []
  }
 ],
 "metadata": {
  "kernelspec": {
   "display_name": "Python (dano-sementes)",
   "language": "python",
   "name": "dano-sementes"
  },
  "language_info": {
   "codemirror_mode": {
    "name": "ipython",
    "version": 3
   },
   "file_extension": ".py",
   "mimetype": "text/x-python",
   "name": "python",
   "nbconvert_exporter": "python",
   "pygments_lexer": "ipython3",
   "version": "3.12.7"
  }
 },
 "nbformat": 4,
 "nbformat_minor": 5
}
